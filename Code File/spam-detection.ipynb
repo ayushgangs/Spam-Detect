{
 "cells": [
  {
   "cell_type": "code",
   "execution_count": null,
   "metadata": {
    "executionInfo": {
     "elapsed": 1193,
     "status": "ok",
     "timestamp": 1618047674904,
     "user": {
      "displayName": "cool dude",
      "photoUrl": "",
      "userId": "14175779609071026591"
     },
     "user_tz": -330
    },
    "id": "43xIFl7Jz5wP"
   },
   "outputs": [],
   "source": [
    "import numpy as np\n",
    "import pandas as pd\n",
    "import matplotlib.pyplot as plt\n",
    "import seaborn as sns\n",
    "from xgboost import XGBRegressor\n",
    "from sklearn.metrics import mean_squared_error\n",
    "from sklearn.model_selection import train_test_split\n",
    "from pandas import DataFrame\n",
    "from pandas import concat\n",
    "from sklearn.tree import DecisionTreeRegressor\n",
    "from sklearn.ensemble import RandomForestRegressor\n",
    "from sklearn import metrics\n",
    "from sklearn.ensemble import GradientBoostingRegressor\n",
    "import tensorflow as tf\n",
    "import keras\n",
    "from keras.models import Sequential\n",
    "from keras.layers import LSTM\n",
    "from keras.layers import Dropout\n",
    "from keras.layers import Dense\n",
    "\n",
    "from scipy.stats import kde"
   ]
  },
  {
   "cell_type": "code",
   "execution_count": null,
   "metadata": {
    "colab": {
     "base_uri": "https://localhost:8080/"
    },
    "executionInfo": {
     "elapsed": 2016,
     "status": "ok",
     "timestamp": 1618047981307,
     "user": {
      "displayName": "cool dude",
      "photoUrl": "",
      "userId": "14175779609071026591"
     },
     "user_tz": -330
    },
    "id": "eD0b0ezaz5wi",
    "outputId": "0dd2549b-0bab-47af-8b63-4736b7608af2"
   },
   "outputs": [],
   "source": [
    "data = pd.read_csv('D:\\dissertation 10th sem\\HomeC.csv', low_memory=False)\n",
    "print(data)"
   ]
  },
  {
   "cell_type": "code",
   "execution_count": null,
   "metadata": {
    "id": "eeuqiSR-z5wl"
   },
   "outputs": [],
   "source": [
    "data = data[0:-1]\n",
    "data.tail()"
   ]
  },
  {
   "cell_type": "code",
   "execution_count": null,
   "metadata": {
    "id": "Ey8wLuDdz5wn"
   },
   "outputs": [],
   "source": [
    "data['sum_Furnace'] = data[['Furnace 1 [kW]','Furnace 2 [kW]']].sum(axis=1)\n",
    "data['avg_Kitchen'] = data[['Kitchen 12 [kW]','Kitchen 14 [kW]','Kitchen 38 [kW]']].mean(axis=1)"
   ]
  },
  {
   "cell_type": "code",
   "execution_count": null,
   "metadata": {
    "colab": {
     "base_uri": "https://localhost:8080/"
    },
    "executionInfo": {
     "elapsed": 1114,
     "status": "ok",
     "timestamp": 1618045795657,
     "user": {
      "displayName": "cool dude",
      "photoUrl": "",
      "userId": "14175779609071026591"
     },
     "user_tz": -330
    },
    "id": "DsT-xra_z5wo",
    "outputId": "c9646121-de95-4086-bf62-5cfc315ac9ef"
   },
   "outputs": [],
   "source": [
    "data = data.drop(['Kitchen 12 [kW]','Kitchen 14 [kW]','Kitchen 38 [kW]'], axis=1)\n",
    "data = data.drop(['Furnace 1 [kW]','Furnace 2 [kW]'], axis=1)\n",
    "data.columns"
   ]
  },
  {
   "cell_type": "code",
   "execution_count": null,
   "metadata": {},
   "outputs": [],
   "source": [
    "time_index = pd.date_range('2016-01-01 08:00', periods=len(data),  freq='min')  \n",
    "time_index = pd.DatetimeIndex(time_index)\n",
    "data = data.set_index(time_index)\n",
    "data.head(3)"
   ]
  },
  {
   "cell_type": "code",
   "execution_count": null,
   "metadata": {
    "colab": {
     "base_uri": "https://localhost:8080/"
    },
    "executionInfo": {
     "elapsed": 1529,
     "status": "ok",
     "timestamp": 1618045806599,
     "user": {
      "displayName": "cool dude",
      "photoUrl": "",
      "userId": "14175779609071026591"
     },
     "user_tz": -330
    },
    "id": "1jRhBFGr7A5F",
    "outputId": "b467175b-4111-46dd-84f4-539be8b7d6b6"
   },
   "outputs": [],
   "source": [
    "data.info()"
   ]
  },
  {
   "cell_type": "code",
   "execution_count": null,
   "metadata": {
    "colab": {
     "base_uri": "https://localhost:8080/"
    },
    "executionInfo": {
     "elapsed": 1274,
     "status": "ok",
     "timestamp": 1618045810644,
     "user": {
      "displayName": "cool dude",
      "photoUrl": "",
      "userId": "14175779609071026591"
     },
     "user_tz": -330
    },
    "id": "YKmBYl5MPhQw",
    "outputId": "a53d011c-f897-4aa1-a8b5-0a3421df56fc"
   },
   "outputs": [],
   "source": [
    "data['cloudCover']"
   ]
  },
  {
   "cell_type": "code",
   "execution_count": null,
   "metadata": {
    "colab": {
     "base_uri": "https://localhost:8080/"
    },
    "executionInfo": {
     "elapsed": 1386,
     "status": "ok",
     "timestamp": 1618045814434,
     "user": {
      "displayName": "cool dude",
      "photoUrl": "",
      "userId": "14175779609071026591"
     },
     "user_tz": -330
    },
    "id": "Ea92679hPpmY",
    "outputId": "87935891-0624-499f-cf38-a891e8175eb5"
   },
   "outputs": [],
   "source": [
    "#data[data['cloudCover']=='cloudCover'].shape"
   ]
  },
  {
   "cell_type": "code",
   "execution_count": null,
   "metadata": {
    "colab": {
     "base_uri": "https://localhost:8080/"
    },
    "executionInfo": {
     "elapsed": 1524,
     "status": "ok",
     "timestamp": 1618045817404,
     "user": {
      "displayName": "cool dude",
      "photoUrl": "",
      "userId": "14175779609071026591"
     },
     "user_tz": -330
    },
    "id": "so0qVnEvQHI9",
    "outputId": "e99c2d05-90ad-4c11-fb6c-47eb597fe792"
   },
   "outputs": [],
   "source": [
    "data['cloudCover'].replace(['cloudCover'], method='bfill', inplace=True)\n",
    "data['cloudCover']=data['cloudCover'].astype('float')\n",
    "data['cloudCover']"
   ]
  },
  {
   "cell_type": "code",
   "execution_count": null,
   "metadata": {
    "id": "1FXomNA-VpsP"
   },
   "outputs": [],
   "source": [
    "data.drop(['use [kW]','gen [kW]','summary'], axis=1, inplace=True)\n",
    "data.head(3)"
   ]
  },
  {
   "cell_type": "code",
   "execution_count": null,
   "metadata": {},
   "outputs": [],
   "source": [
    "data.info()"
   ]
  },
  {
   "cell_type": "code",
   "execution_count": null,
   "metadata": {
    "id": "VPub9N2pWTjQ"
   },
   "outputs": [],
   "source": [
    "home_dat = data.select_dtypes(exclude=['object'])\n",
    "home_dat.head(3)"
   ]
  },
  {
   "cell_type": "code",
   "execution_count": null,
   "metadata": {
    "id": "LLiRRMJTw43Q"
   },
   "outputs": [],
   "source": [
    "energy_data = home_dat.filter(items=['Solar [kW]','Dishwasher [kW]','Home office [kW]','Fridge [kW]','Wine cellar [kW]',\n",
    "                                     'Garage door [kW]', 'Barn [kW]','Well [kW]','Microwave [kW]','Living room [kW]',\n",
    "                                     'sum_Furnace', 'avg_Kitchen'])\n",
    "\n",
    "weather_data = home_dat.filter(items=['temperature','humidity','visibility','apparentTemperature','pressure','windSpeed',\n",
    "                                  'cloudCover','windBearing','precipIntensity','dewPoint','precipProbability'])"
   ]
  },
  {
   "cell_type": "code",
   "execution_count": null,
   "metadata": {
    "id": "ur2MtgAD8RYa"
   },
   "outputs": [],
   "source": [
    "energy_data.head(3)"
   ]
  },
  {
   "cell_type": "code",
   "execution_count": null,
   "metadata": {
    "id": "md09cVJL8ZsJ"
   },
   "outputs": [],
   "source": [
    "weather_data.head(3)"
   ]
  },
  {
   "cell_type": "code",
   "execution_count": null,
   "metadata": {
    "id": "NkAKHbJqzity"
   },
   "outputs": [],
   "source": [
    "energy_per_day = energy_data.resample('D').sum()\n",
    "energy_per_day.head(3)"
   ]
  },
  {
   "cell_type": "code",
   "execution_count": null,
   "metadata": {
    "id": "TwF2PGG6x8BX"
   },
   "outputs": [],
   "source": [
    "energy_per_month = energy_data.resample('M').sum()\n",
    "energy_per_month.head(3)"
   ]
  },
  {
   "cell_type": "code",
   "execution_count": null,
   "metadata": {
    "id": "c9QyO8cISgIi"
   },
   "outputs": [],
   "source": [
    "plt.figure(figsize=(20,10)) \n",
    "sns.lineplot(data= energy_per_month.filter(items=['Dishwasher [kW]','Home office [kW]','Fridge [kW]','Garage door [kW]',\n",
    "                                                  'Wine cellar [kW]', 'Barn [kW]', 'Microwave [kW]',\n",
    "                                                  'Living room [kW]']) , dashes=False  )\n",
    "#Home office has highest consumption\n",
    "#Microwave has lowest consumption\n",
    "#Wine cellar shows a peak in september\n",
    "#Microwave, Garage door & Dishwasher energy consumption is constant irrespective of weather as their usage is directly \n",
    " #linked to human movements "
   ]
  },
  {
   "cell_type": "code",
   "execution_count": null,
   "metadata": {
    "id": "k9aA8HEiuZhh"
   },
   "outputs": [],
   "source": [
    "weather_per_day = weather_data.resample('D').mean()  # note!! (mean) # D =>> for day sample\n",
    "weather_per_day.head(3)                "
   ]
  },
  {
   "cell_type": "code",
   "execution_count": null,
   "metadata": {},
   "outputs": [],
   "source": [
    "weather_per_month = weather_data.resample('M').mean()   # M =>> for month sample\n",
    "weather_per_month.head(3)"
   ]
  },
  {
   "cell_type": "code",
   "execution_count": null,
   "metadata": {},
   "outputs": [],
   "source": [
    "plt.figure(figsize=(20,10)) \n",
    "sns.lineplot(data= weather_per_month.filter(items=['temperature','humidity','visibility','apparentTemperature','pressure',\n",
    "                                                   'windSpeed','cloudCover','windBearing','precipIntensity','dewPoint',\n",
    "                                                   'precipProbability']) , dashes=False)"
   ]
  },
  {
   "cell_type": "code",
   "execution_count": null,
   "metadata": {},
   "outputs": [],
   "source": [
    "rooms_energy = energy_per_month.filter(items=[      # remove the devices consumption \n",
    "                                     'Home office [kW]', 'Wine cellar [kW]', 'avg_Kitchen','Barn [kW]', 'Living room [kW]']) \n",
    "devices_energy = energy_per_month.filter(items=[    # remove the rooms consumption\n",
    "                                     'Dishwasher [kW]', 'sum_Furnace', 'Garage door [kW]', 'Well [kW]',\n",
    "                                     'Microwave [kW]'])\n",
    "\n",
    "all_rooms_consum = rooms_energy.sum()\n",
    "all_devices_consum = devices_energy.sum()\n",
    "print(all_rooms_consum)\n",
    "print(all_devices_consum)"
   ]
  },
  {
   "cell_type": "code",
   "execution_count": null,
   "metadata": {},
   "outputs": [],
   "source": [
    "plot = all_rooms_consum.plot(kind=\"pie\", autopct='%.2f', figsize=(10,10))\n",
    "plot.set_title(\"Consumption for rooms\")\n",
    "plot.set_ylabel('%')"
   ]
  },
  {
   "cell_type": "code",
   "execution_count": null,
   "metadata": {},
   "outputs": [],
   "source": [
    "plot = all_devices_consum.plot(kind=\"pie\", autopct='%.2f', figsize=(10,10))\n",
    "plot.set_title(\"Consumption for devices\")\n",
    "plot.set_ylabel('%')"
   ]
  },
  {
   "cell_type": "code",
   "execution_count": null,
   "metadata": {},
   "outputs": [],
   "source": [
    "fig,ax = plt.subplots(figsize=(10, 8)) \n",
    "corr = data[['Dishwasher [kW]','Home office [kW]','Fridge [kW]','Wine cellar [kW]','Garage door [kW]','Barn [kW]',\n",
    "             'Well [kW]','Microwave [kW]','Living room [kW]','sum_Furnace','avg_Kitchen']].corr()\n",
    "sns.heatmap(corr, annot=True, vmin=-1.0, vmax=1.0, center=0)\n",
    "ax.set_title('Correlation of Appliances',size=20)\n",
    "plt.show()"
   ]
  },
  {
   "cell_type": "code",
   "execution_count": null,
   "metadata": {},
   "outputs": [],
   "source": [
    "fig,ax = plt.subplots(figsize=(10, 8)) \n",
    "corr = data[['temperature','apparentTemperature','humidity','visibility','pressure','windSpeed','cloudCover',\n",
    "           'precipIntensity','dewPoint']].corr()\n",
    "sns.heatmap(corr, annot=True, vmin=-1.0, vmax=1.0, center=0)\n",
    "ax.set_title('Correlation of Weather Information',size=20)\n",
    "plt.show()\n",
    "\n",
    "# Temperature is related to apparentTemperature and dewPoint.\n",
    "# Humidity is related to visibility, windSpeed, cloudCover and dewPoint.\n",
    "# Visibility is related to humidity, windSpeed, cloudCover and precipIntensity.\n",
    "# CloudCover is related to humidity, visibility and precipIntensity.\n",
    "# PrecipIntensity is related to visibility and cloudCover.\n",
    "# DewPoint is related to temperature, apparentTemperature and humidity."
   ]
  },
  {
   "cell_type": "code",
   "execution_count": null,
   "metadata": {},
   "outputs": [],
   "source": [
    "fig,ax = plt.subplots(figsize=(20, 12)) \n",
    "corr = data[['Dishwasher [kW]','Home office [kW]','Fridge [kW]','Wine cellar [kW]','Garage door [kW]','Barn [kW]',\n",
    "             'Well [kW]','Microwave [kW]','Living room [kW]','sum_Furnace','avg_Kitchen','temperature','apparentTemperature',\n",
    "             'humidity','visibility','pressure','windSpeed','cloudCover','precipIntensity','dewPoint']].corr()\n",
    "sns.heatmap(corr, annot=True, vmin=-1.0, vmax=1.0, center=0)\n",
    "ax.set_title('Correlation of Appliances & Weather Information',size=20)\n",
    "plt.show()\n",
    "\n",
    "# Fridge is related to temperature, apparentTemperature and dewPoint.\n",
    "# Wine cellar is related to temperature, apparentTemperature and dewPoint.\n",
    "# sum_Furnace is related to temperature, apparentTemperature, windSpeed and dewPoint."
   ]
  },
  {
   "cell_type": "code",
   "execution_count": null,
   "metadata": {},
   "outputs": [],
   "source": [
    "weather=data['icon'].unique()\n",
    "weather"
   ]
  },
  {
   "cell_type": "code",
   "execution_count": null,
   "metadata": {},
   "outputs": [],
   "source": [
    "data['icon'].map({'clear-night':0,\n",
    "                  'partly-cloudy-night':1, 'clear-day':2, 'cloudy':3,\n",
    "       'partly-cloudy-day':4, 'rain':5, 'snow':6, 'wind':7, 'fog':8})"
   ]
  },
  {
   "cell_type": "code",
   "execution_count": null,
   "metadata": {},
   "outputs": [],
   "source": [
    "dummy=pd.get_dummies(data['icon'])\n"
   ]
  },
  {
   "cell_type": "code",
   "execution_count": null,
   "metadata": {},
   "outputs": [],
   "source": [
    "X=data.drop(['House overall [kW]','time','icon'],axis=1)\n",
    "X=X.join(dummy)\n",
    "Y=data['House overall [kW]']\n",
    "\n",
    "regressor = DecisionTreeRegressor(random_state=0)\n",
    "regressor.fit(X,Y)"
   ]
  },
  {
   "cell_type": "code",
   "execution_count": null,
   "metadata": {},
   "outputs": [],
   "source": [
    "r=regressor.feature_importances_"
   ]
  },
  {
   "cell_type": "code",
   "execution_count": null,
   "metadata": {},
   "outputs": [],
   "source": [
    "fi=pd.Series(r,index=X.columns)"
   ]
  },
  {
   "cell_type": "code",
   "execution_count": null,
   "metadata": {},
   "outputs": [],
   "source": [
    "fi['icon']=fi[weather].sum()\n",
    "fi=fi.drop(weather)"
   ]
  },
  {
   "cell_type": "code",
   "execution_count": null,
   "metadata": {},
   "outputs": [],
   "source": [
    "fi.sum()\n",
    "fi"
   ]
  },
  {
   "cell_type": "code",
   "execution_count": null,
   "metadata": {},
   "outputs": [],
   "source": [
    "def series_to_supervised(data, n_in, n_out=1, dropnan=True):\n",
    "\t\"\"\"\n",
    "\tFrame a time series as a supervised learning dataset.\n",
    "\tArguments:\n",
    "\t\tdata: Sequence of observations as a list or NumPy array.\n",
    "\t\tn_in: Number of lag observations as input (X).\n",
    "\t\tn_out: Number of observations as output (y).\n",
    "\t\tdropnan: Boolean whether or not to drop rows with NaN values.\n",
    "\tReturns:\n",
    "\t\tPandas DataFrame of series framed for supervised learning.\n",
    "\t\"\"\"\n",
    "\tn_vars = 1 if type(data) is list else data.shape[1]\n",
    "\tdf = DataFrame(data)\n",
    "\tcols, names = list(), list()\n",
    "\t# input sequence (t-n, ... t-1)\n",
    "\tfor i in range(n_in, 0, -1):\n",
    "\t\tcols.append(df.shift(i))\n",
    "\t\tnames += [('var%d(t-%d)' % (j+1, i)) for j in range(n_vars)]\n",
    "\t# forecast sequence (t, t+1, ... t+n)\n",
    "\tfor i in range(0, n_out):\n",
    "\t\tcols.append(df.shift(-i))\n",
    "\t\tif i == 0:\n",
    "\t\t\tnames += [('var%d(t)' % (j+1)) for j in range(n_vars)]\n",
    "\t\telse:\n",
    "\t\t\tnames += [('var%d(t+%d)' % (j+1, i)) for j in range(n_vars)]\n",
    "\t# put it all together\n",
    "\tagg = concat(cols, axis=1)\n",
    "\tagg.columns = names\n",
    "\t# drop rows with NaN values\n",
    "\tif dropnan:\n",
    "\t\tagg.dropna(inplace=True)\n",
    "\treturn agg\n",
    "\n",
    "data_dw=data.resample('D').mean()\n"
   ]
  },
  {
   "cell_type": "code",
   "execution_count": null,
   "metadata": {},
   "outputs": [],
   "source": [
    "category=fi.index[0:len(fi)-1]"
   ]
  },
  {
   "cell_type": "code",
   "execution_count": null,
   "metadata": {},
   "outputs": [],
   "source": [
    "spam_score=pd.DataFrame([],columns=['m1','m2','m3','m4'],index=category)\n",
    "\n",
    "xb1=XGBRegressor(n_estimators=999,max_depth=9)\n",
    "xb2=DecisionTreeRegressor(max_depth=9)\n",
    "xb3=RandomForestRegressor(max_depth=9, max_features=10)\n",
    "xb4=GradientBoostingRegressor(learning_rate=0.1, max_features=12)\n",
    "\n",
    "for col in category:\n",
    "    coldata=data_dw[col]\n",
    "    coldata=list((coldata-coldata.mean())/coldata.std())\n",
    "    dw_dataset=series_to_supervised(coldata,12,1)\n",
    "\n",
    "    x=dw_dataset.drop('var1(t)',axis=1)\n",
    "    y=dw_dataset['var1(t)']\n",
    "    x_train,x_test,Y_train,Y_test=train_test_split(x, y, test_size=0.2)\n",
    "    \n",
    "    \n",
    "    xb1.fit(x_train, Y_train,eval_set=[(x_train, Y_train), (x_test, Y_test)])\n",
    "    y_pred1 = xb1.predict(x_test)\n",
    "    x1= np.sqrt(metrics.mean_squared_error(Y_test, y_pred1))\n",
    "    spam_score.loc[col,'m1']=x1*fi[col]\n",
    "    \n",
    "    xb2.fit(x_train, Y_train)\n",
    "    y_pred2 = xb2.predict(x_test)\n",
    "    x2= np.sqrt(mean_squared_error(Y_test, y_pred2))\n",
    "    spam_score.loc[col,'m2']=x2*fi[col]\n",
    "    \n",
    "    xb3.fit(x_train, Y_train)\n",
    "    y_pred3 = xb3.predict(x_test)\n",
    "    x3= np.sqrt(mean_squared_error(Y_test, y_pred3))\n",
    "    spam_score.loc[col,'m3']=x3*fi[col]\n",
    "    \n",
    "\n",
    "    xb4.fit(x_train, Y_train)\n",
    "    y_pred4 = xb4.predict(x_test)\n",
    "    x4= np.sqrt(mean_squared_error(Y_test, y_pred4))\n",
    "    spam_score.loc[col,'m4']=x4*fi[col]\n",
    "    "
   ]
  },
  {
   "cell_type": "code",
   "execution_count": null,
   "metadata": {},
   "outputs": [],
   "source": [
    "spam_score"
   ]
  },
  {
   "cell_type": "code",
   "execution_count": null,
   "metadata": {},
   "outputs": [],
   "source": [
    "x=spam_score['m1'].head(10)\n",
    "y=spam_score['m1'].tail(13)\n",
    "ax = x.plot.kde(color=\"red\")      #House Appliances\n",
    "ax = y.plot.kde(color=\"blue\")     #Weather Conditions"
   ]
  },
  {
   "cell_type": "code",
   "execution_count": null,
   "metadata": {},
   "outputs": [],
   "source": [
    "x=spam_score['m2'].head(10)\n",
    "y=spam_score['m2'].tail(13)\n",
    "ax = x.plot.kde(color=\"red\")         #House Appliances\n",
    "ax = y.plot.kde(color=\"blue\")        #Weather Conditions"
   ]
  },
  {
   "cell_type": "code",
   "execution_count": null,
   "metadata": {},
   "outputs": [],
   "source": [
    "x=spam_score['m3'].head(10)\n",
    "y=spam_score['m3'].tail(13)\n",
    "ax = x.plot.kde(color=\"red\")          #House Appliances     \n",
    "ax = y.plot.kde(color=\"blue\")         #Weather Conditions "
   ]
  },
  {
   "cell_type": "code",
   "execution_count": null,
   "metadata": {},
   "outputs": [],
   "source": [
    "x=spam_score['m4'].head(10)\n",
    "y=spam_score['m4'].tail(13)\n",
    "ax = x.plot.kde(color=\"red\")             #House Appliances \n",
    "ax = y.plot.kde(color=\"blue\")            #Weather Conditions"
   ]
  },
  {
   "cell_type": "code",
   "execution_count": null,
   "metadata": {},
   "outputs": [],
   "source": [
    "spam_score1=pd.DataFrame([],columns=['l'],index=category)\n",
    "\n",
    "x_train2=x_train.values.reshape(x_train.shape[0],x_train.shape[1],1)\n",
    "    # x_train2.shape\n",
    "x_test2=x_test.values.reshape(x_test.shape[0],x_test.shape[1],1)\n",
    "    # x_test2.shape\n",
    "\n",
    "model = Sequential()\n",
    "model.add(LSTM(64, input_shape=(x_train.shape[1], 1)))\n",
    "model.add(Dense(1))\n",
    "model.compile(loss='mse', optimizer='adam')\n",
    "\n",
    "for col in category:\n",
    "    coldata=data_dw[col]\n",
    "    coldata=list((coldata-coldata.min())/(coldata.max()-coldata.min()))\n",
    "    dw_dataset=series_to_supervised(coldata,12,1)\n",
    "\n",
    "    x=dw_dataset.drop('var1(t)',axis=1)\n",
    "    y=dw_dataset['var1(t)']\n",
    "    x_train,x_test,Y_train,Y_test=train_test_split(x, y, test_size=0.2)\n",
    "   \n",
    "    \n",
    "    history = model.fit(x_train2, Y_train, epochs=70, batch_size=30, validation_data=(x_test2,Y_test), verbose=2, shuffle=False)\n",
    "    y_pred5=model.predict(x_test2)\n",
    "    x5= np.sqrt(metrics.mean_squared_error(Y_test, y_pred5))\n",
    "    spam_score1.loc[col,'l']=x5*fi[col]\n",
    "       \n",
    "\n",
    "    "
   ]
  },
  {
   "cell_type": "code",
   "execution_count": null,
   "metadata": {},
   "outputs": [],
   "source": [
    "spam_score1"
   ]
  },
  {
   "cell_type": "code",
   "execution_count": null,
   "metadata": {},
   "outputs": [],
   "source": [
    "print(type(spam_score1))"
   ]
  },
  {
   "cell_type": "code",
   "execution_count": null,
   "metadata": {},
   "outputs": [],
   "source": [
    "x=spam_score1['l'].head(10)\n",
    "y=spam_score1['l'].tail(13)\n",
    "ax = x.plot.kde(color=\"red\")          #House Appliances\n",
    "ax = y.plot.kde(color=\"blue\")         #Weather Conditions"
   ]
  },
  {
   "cell_type": "code",
   "execution_count": null,
   "metadata": {},
   "outputs": [],
   "source": []
  }
 ],
 "metadata": {
  "colab": {
   "name": "spam-detection.ipynb",
   "provenance": []
  },
  "kernelspec": {
   "display_name": "Python 3",
   "language": "python",
   "name": "python3"
  },
  "language_info": {
   "codemirror_mode": {
    "name": "ipython",
    "version": 3
   },
   "file_extension": ".py",
   "mimetype": "text/x-python",
   "name": "python",
   "nbconvert_exporter": "python",
   "pygments_lexer": "ipython3",
   "version": "3.8.5"
  }
 },
 "nbformat": 4,
 "nbformat_minor": 1
}
